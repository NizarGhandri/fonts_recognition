{
 "cells": [
  {
   "cell_type": "markdown",
   "metadata": {},
   "source": [
    "# Introduction to Machine Learning\n",
    "## Home Assignment 1\n",
    "## Imports"
   ]
  },
  {
   "cell_type": "code",
   "execution_count": 2,
   "metadata": {},
   "outputs": [],
   "source": [
    "import requests\n",
    "from zipfile import ZipFile\n",
    "import os\n",
    "import numpy as np\n",
    "import matplotlib.pyplot as plt\n",
    "from PIL import Image\n",
    "import random"
   ]
  },
  {
   "cell_type": "markdown",
   "metadata": {},
   "source": [
    "## Data Preporcessing"
   ]
  },
  {
   "cell_type": "code",
   "execution_count": 3,
   "metadata": {},
   "outputs": [],
   "source": [
    "# we get the data\n",
    "_URL = 'http://www.di.ens.fr/appstat/spring-2020/project/data2.zip'\n",
    "r = requests.get(_URL, allow_redirects=True)\n",
    "with open('data2.zip', 'wb') as f:\n",
    "    f.write(r.content)\n",
    "with ZipFile('data2.zip', 'r') as zipObj:\n",
    "    zipObj.extractall()\n"
   ]
  },
  {
   "cell_type": "code",
   "execution_count": 4,
   "metadata": {},
   "outputs": [],
   "source": [
    "training_data_path = os.path.join('data2', 'train')\n",
    "test_data_path = os.path.join('data2', 'test')"
   ]
  },
  {
   "cell_type": "code",
   "execution_count": 5,
   "metadata": {},
   "outputs": [
    {
     "name": "stdout",
     "output_type": "stream",
     "text": [
      "(900, 784)\n",
      "(900, 1)\n"
     ]
    }
   ],
   "source": [
    "\n",
    "number_of_samples_per_letter = 300\n",
    "pixel_height = 28\n",
    "pixel_width = 28\n",
    "number_of_pixels = pixel_height*pixel_width\n",
    "batch_size = 50\n",
    "shape = (pixel_height*pixel_width)\n",
    "seed = 54\n",
    "# We define a flow of images: \n",
    "\n",
    "def generate (dir_path): \n",
    "    training_data = []\n",
    "    training_labels = []\n",
    "    for item in os.listdir(dir_path):\n",
    "        tmp = os.path.join(dir_path,item)\n",
    "        if os.path.isdir(tmp):\n",
    "            d, l = generate (tmp)\n",
    "            training_data = training_data + d\n",
    "            training_labels = training_labels + l\n",
    "        elif tmp[-3:] == \"png\":\n",
    "            im = Image.open(tmp)\n",
    "            training_data.append(np.reshape(np.asarray(im), shape))\n",
    "            if(dir_path[-1:] == 'A'):\n",
    "                training_labels.append(1)\n",
    "            else: \n",
    "                training_labels.append(-1)\n",
    "    return training_data, training_labels\n",
    "\n",
    "\n",
    "\n",
    "\n",
    "\n",
    "            \n",
    "def make (dir_path): \n",
    "    d, l = generate(dir_path)\n",
    "    data = np.array(d)/255\n",
    "    label = np.reshape(np.array(l), (np.shape(l)[0],1))\n",
    "    L = np.arange(np.shape(data)[0])\n",
    "    random.shuffle(L)\n",
    "    return data[L], label[L]\n",
    "\n",
    "\n",
    "training_data, training_labels = make(training_data_path)\n",
    "test_data, test_labels = make(test_data_path)\n",
    "\n",
    "\n",
    "print(np.shape(training_data))\n",
    "print(np.shape(training_labels))"
   ]
  },
  {
   "cell_type": "markdown",
   "metadata": {},
   "source": [
    "## Utility functions "
   ]
  },
  {
   "cell_type": "code",
   "execution_count": 6,
   "metadata": {},
   "outputs": [],
   "source": [
    "def logistic_loss_lasso (theta, x, y, lambd): \n",
    "    return 1/np.shape(y)[0] * np.sum(np.log(1+np.exp(-y*(x@theta))), axis=0) + lambd*np.sum(np.abs(theta), axis=0)\n",
    "\n",
    "\n",
    "def S_lambda (x, lambd):\n",
    "    if (np.abs(x) <= lambd):\n",
    "        return 0\n",
    "    return x - lambd*np.sign(x)\n",
    "    \n",
    "#need to update it with logistic partial derivative not the OLS one\n",
    "def update_i_coordinate_lasso (theta, x, y, lambd, i):\n",
    "    x_i_T = np.reshape(x[:,i], (1, np.shape(y)[0]))\n",
    "    if (i > 0 and i < number_of_pixels):\n",
    "        x__i = np.hstack([x[:,:i], x[:,i+1:]])\n",
    "        theta_i = np.concatenate([theta[:i], theta[i+1:]])\n",
    "    elif (i == 0):\n",
    "        x__i  = x[:, 1:]\n",
    "        theta_i = theta[1:]\n",
    "    else: \n",
    "        x__i = x[:, :(number_of_pixels - 1)]\n",
    "        theta_i = theta[:(number_pixels - 1)]\n",
    "    a = S_lambda(x_i_T@(y-(x_i_T@x__i@theta_i)), lambd)/(x_i_T@np.reshape(x[:,i], (np.shape(y)[0], 1)))\n",
    "    print(a)\n",
    "    return a\n",
    "    \n",
    "    \n",
    "def logistic_loss_ridge (theta, x, y, lambd): \n",
    "    return 1/np.shape(y)[0] * np.sum(np.log(1+np.exp(-y*(x@theta))), axis=0) + lambd*np.sum(theta**2, axis=0)\n",
    "\n",
    "def logistic_gradient_ridge (theta, x, y, lambd):\n",
    "    k = -y*x\n",
    "    e = np.exp(k@theta)\n",
    "    u_ = k*e\n",
    "    return np.reshape(1/np.shape(y)[0] * np.sum(u_/(1+e), axis=0), np.shape(theta)) + lambd*2*theta\n",
    "\n",
    "def sigmoid(t):\n",
    "    return 1/(1 + np.exp(-t))       \n",
    "\n",
    "def logistic_classify(theta, data): \n",
    "    return 2*(sigmoid(data@theta)>0.5) - 1\n",
    "\n",
    "def test(theta, data_set, labels): \n",
    "    accuracy = 0\n",
    "    for x, y in zip (data_set, labels):\n",
    "        accuracy += (logistic_classify(theta, x) == y) \n",
    "    return accuracy/len(labels)\n",
    "\n",
    "def plot(training_error, test_error, t, t_s, title):\n",
    "    plt.plot(t, training_error, label=\"training_error\")\n",
    "    plt.plot(t, test_error, label=\"test_error\")\n",
    "    plt.legend()\n",
    "    plt.ylabel(\"error_rate\")\n",
    "    plt.xlabel(t_s)\n",
    "    plt.title(title)\n",
    "    plt.show(block=False)\n",
    "    \n",
    "\n"
   ]
  },
  {
   "cell_type": "markdown",
   "metadata": {},
   "source": [
    "## Gradient Descent and Coordinate Desecent"
   ]
  },
  {
   "cell_type": "code",
   "execution_count": 7,
   "metadata": {},
   "outputs": [],
   "source": [
    "def gradient_descent_ridge (starting_point, training_data, training_labels, eta, t, lambd):\n",
    "    theta = starting_point\n",
    "    for i in range (t):\n",
    "        delta_theta = -logistic_gradient_ridge(theta, training_data, training_labels, lambd)\n",
    "        theta += eta*delta_theta\n",
    "    return theta\n",
    "\n",
    "def coordinate_descent_lasso (starting_point, training_data, training_labels, eta, t, lambd):\n",
    "    theta = starting_point\n",
    "    for j in range(t):\n",
    "        for i in range(number_of_pixels):\n",
    "            theta[i, 0] = update_i_coordinate_lasso(theta, training_data, training_labels, lambd, i)[0, 0]\n",
    "    return theta"
   ]
  },
  {
   "cell_type": "code",
   "execution_count": 8,
   "metadata": {},
   "outputs": [
    {
     "name": "stdout",
     "output_type": "stream",
     "text": [
      "[0.93466667]\n",
      "[0.936]\n",
      "[0.936]\n",
      "[0.936]\n",
      "[0.936]\n",
      "[0.93466667]\n",
      "[0.936]\n",
      "[0.93466667]\n",
      "[0.93733333]\n",
      "[0.93466667]\n",
      "[0.93466667]\n",
      "[0.93333333]\n",
      "[0.93333333]\n",
      "[0.93066667]\n",
      "[0.93066667]\n",
      "[0.93066667]\n",
      "[0.93066667]\n",
      "[0.92933333]\n",
      "[0.92666667]\n",
      "[0.92666667]\n",
      "[0.92666667]\n",
      "[0.92266667]\n",
      "[0.92266667]\n",
      "[0.92133333]\n",
      "[0.92]\n",
      "[0.91866667]\n",
      "[0.91866667]\n",
      "[0.91866667]\n",
      "[0.91733333]\n",
      "[0.91733333]\n",
      "[0.91466667]\n",
      "[0.91466667]\n",
      "[0.91466667]\n",
      "[0.912]\n",
      "[0.912]\n",
      "[0.912]\n",
      "[0.90933333]\n",
      "[0.90666667]\n",
      "[0.90533333]\n",
      "[0.90533333]\n",
      "[0.90533333]\n",
      "[0.90533333]\n",
      "[0.90533333]\n",
      "[0.904]\n",
      "[0.904]\n",
      "[0.90266667]\n",
      "[0.90133333]\n",
      "[0.9]\n",
      "[0.89733333]\n",
      "[0.89733333]\n",
      "[0.896]\n",
      "[0.896]\n",
      "[0.89466667]\n",
      "[0.89333333]\n",
      "[0.892]\n",
      "[0.89066667]\n",
      "[0.89066667]\n",
      "[0.888]\n",
      "[0.888]\n",
      "[0.888]\n",
      "[0.88666667]\n",
      "[0.88666667]\n",
      "[0.884]\n",
      "[0.88]\n",
      "[0.88]\n",
      "[0.87733333]\n",
      "[0.87733333]\n",
      "[0.87866667]\n",
      "[0.87866667]\n",
      "[0.876]\n",
      "[0.87333333]\n",
      "[0.87333333]\n",
      "[0.872]\n",
      "[0.87066667]\n",
      "[0.86666667]\n",
      "[0.86666667]\n",
      "[0.86666667]\n",
      "[0.86666667]\n",
      "[0.86666667]\n",
      "[0.86666667]\n",
      "[0.864]\n",
      "[0.864]\n",
      "[0.864]\n",
      "[0.86266667]\n",
      "[0.86133333]\n",
      "[0.85866667]\n",
      "[0.85733333]\n",
      "[0.856]\n",
      "[0.85466667]\n",
      "[0.85466667]\n",
      "[0.85333333]\n",
      "[0.852]\n",
      "[0.85066667]\n",
      "[0.85066667]\n",
      "[0.848]\n",
      "[0.84266667]\n",
      "[0.84133333]\n",
      "[0.84133333]\n",
      "[0.84133333]\n",
      "[0.84133333]\n"
     ]
    },
    {
     "data": {
      "image/png": "[encoded data removed]",
      "text/plain": [
       "<Figure size 432x288 with 1 Axes>"
      ]
     },
     "metadata": {
      "needs_background": "light"
     },
     "output_type": "display_data"
    }
   ],
   "source": [
    "def evaluate (descent, title):\n",
    "    training_errors = []\n",
    "    test_errors = []\n",
    "    lambdas = np.arange(0, 10, 0.1)\n",
    "    for lambd in lambdas:\n",
    "        theta = descent(0.001*np.ones((pixel_height*pixel_width, 1)), training_data, training_labels, 0.01, 100, lambd)\n",
    "        tmp = test(theta, test_data, test_labels)\n",
    "        print(tmp)\n",
    "        training_errors.append(test(theta, training_data, training_labels))\n",
    "        test_errors.append(tmp)\n",
    "\n",
    "\n",
    "    plot(1-np.array(training_errors), 1-np.array(test_errors), lambdas, \"lambda\", title)\n",
    "    \n",
    "    \n",
    "#evaluate(coordinate_descent_lasso, \"LASSO\")\n",
    "evaluate(gradient_descent_ridge, \"RIDGE\")"
   ]
  },
  {
   "cell_type": "code",
   "execution_count": 9,
   "metadata": {},
   "outputs": [
    {
     "name": "stdout",
     "output_type": "stream",
     "text": [
      "[0.93888889]\n",
      "[0.93888889]\n",
      "[0.93666667]\n",
      "[0.93888889]\n",
      "[0.93888889]\n",
      "[0.94111111]\n",
      "[0.93888889]\n",
      "[0.93777778]\n",
      "[0.93888889]\n",
      "[0.93888889]\n",
      "[0.93888889]\n",
      "[0.93888889]\n",
      "[0.94]\n",
      "[0.94111111]\n",
      "[0.94]\n",
      "[0.94]\n",
      "[0.93888889]\n",
      "[0.93888889]\n",
      "[0.93888889]\n",
      "[0.93888889]\n",
      "[0.93888889]\n",
      "[0.93777778]\n",
      "[0.93555556]\n",
      "[0.93333333]\n",
      "[0.93222222]\n",
      "[0.92666667]\n",
      "[0.92555556]\n",
      "[0.92555556]\n",
      "[0.92555556]\n",
      "[0.92333333]\n",
      "[0.92222222]\n",
      "[0.91777778]\n",
      "[0.91444444]\n",
      "[0.91333333]\n",
      "[0.91333333]\n",
      "[0.91333333]\n",
      "[0.91333333]\n",
      "[0.91222222]\n",
      "[0.91111111]\n",
      "[0.91111111]\n",
      "[0.91111111]\n",
      "[0.91111111]\n",
      "[0.91]\n",
      "[0.91]\n",
      "[0.90888889]\n",
      "[0.90555556]\n",
      "[0.90555556]\n",
      "[0.90555556]\n",
      "[0.90444444]\n",
      "[0.90333333]\n"
     ]
    },
    {
     "data": {
      "image/png": "[encoded data removed]",
      "text/plain": [
       "<Figure size 432x288 with 1 Axes>"
      ]
     },
     "metadata": {
      "needs_background": "light"
     },
     "output_type": "display_data"
    },
    {
     "data": {
      "text/plain": [
       "0.5"
      ]
     },
     "execution_count": 9,
     "metadata": {},
     "output_type": "execute_result"
    }
   ],
   "source": [
    "theta_to_plot = []\n",
    "\n",
    "def K_fold(descent, K, lambd):\n",
    "    n = np.shape(training_labels)[0]\n",
    "    assert (n % K == 0)\n",
    "    test_error = []\n",
    "    for i in range(0, n, K):\n",
    "            theta = descent(0.001*np.ones((pixel_height*pixel_width, 1)), \n",
    "                            np.concatenate([training_data[:i], training_data[i+K:n]]), \n",
    "                            np.concatenate([training_labels[:i], training_labels[i+K:n]]),\n",
    "                            0.01, 100, lambd)\n",
    "            \n",
    "            test_error.append(test(theta, training_data[i:i+K], training_labels[i:i+K]))\n",
    "    a = sum(test_error)/len(test_error)\n",
    "    print(a)\n",
    "    return a\n",
    "                              \n",
    "def choose_lambda (descent, K=90):\n",
    "    l = np.array([K_fold(descent, K, i/10) for i in range(50)])\n",
    "    plt.plot(np.arange(0, 5, 0.1), 1 - l, label=\"crossvalidation_error\")\n",
    "    plt.ylabel(\"error rate\")\n",
    "    plt.xlabel(\"lambda\")\n",
    "    plt.title(\"cross validation\")\n",
    "    plt.show(block=False)\n",
    "    return np.argmax(l)/10\n",
    "    \n",
    "\n",
    "choose_lambda(gradient_descent_ridge)"
   ]
  },
  {
   "cell_type": "markdown",
   "metadata": {},
   "source": [
    "## K means"
   ]
  },
  {
   "cell_type": "code",
   "execution_count": null,
   "metadata": {},
   "outputs": [],
   "source": [
    "def PCA (data, space=2):\n",
    "    m = np.mean(data, axis=1)\n",
    "    data_centered -= np.reshape(m, (np.shape(m)[0], 1)) \n",
    "    w, v = np.linalg.eig(np.transpose(data_centered)@data_centered)\n",
    "    w, v = np.unique(w, axis=0), np.unique(v, axis=0)\n",
    "    basis = v[np.argsort(w)]\n",
    "    return basis[:min(space, np.shape(basis)[0])]\n",
    "\n",
    "\n",
    "def K_means (data, k, space, dist_function, epsilon):\n",
    "    d = PCA(data)\n",
    "    previous_means = d[:k]\n",
    "    means = None\n",
    "    while True: \n",
    "        clusters = [[] for i in range(k)]\n",
    "        for x in d:\n",
    "            index = np.argmin(dist_function(x, means))\n",
    "            clusters[index].append(x)\n",
    "        means = np.mean(clusters, axis=1)\n",
    "        if np.max(means - previous_means) < epsilon: \n",
    "            return means, clusters\n",
    "        \n",
    "            \n",
    "    "
   ]
  }
 ],
 "metadata": {
  "kernelspec": {
   "display_name": "Python 3",
   "language": "python",
   "name": "python3"
  },
  "language_info": {
   "codemirror_mode": {
    "name": "ipython",
    "version": 3
   },
   "file_extension": ".py",
   "mimetype": "text/x-python",
   "name": "python",
   "nbconvert_exporter": "python",
   "pygments_lexer": "ipython3",
   "version": "3.7.6"
  }
 },
 "nbformat": 4,
 "nbformat_minor": 4
}
